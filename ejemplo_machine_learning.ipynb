{
  "nbformat": 4,
  "nbformat_minor": 0,
  "metadata": {
    "colab": {
      "provenance": [],
      "authorship_tag": "ABX9TyPYC/okdnz3JrcLINYxnFMF",
      "include_colab_link": true
    },
    "kernelspec": {
      "name": "python3",
      "display_name": "Python 3"
    },
    "language_info": {
      "name": "python"
    }
  },
  "cells": [
    {
      "cell_type": "markdown",
      "metadata": {
        "id": "view-in-github",
        "colab_type": "text"
      },
      "source": [
        "<a href=\"https://colab.research.google.com/github/UXDynamicSolution/datamining_public/blob/main/ejemplo_machine_learning.ipynb\" target=\"_parent\"><img src=\"https://colab.research.google.com/assets/colab-badge.svg\" alt=\"Open In Colab\"/></a>"
      ]
    },
    {
      "cell_type": "markdown",
      "source": [
        "\n",
        "\n",
        "# Ejemplo Machine Learning, conversor de temperatura en base a datos de aprendizaje\n",
        "\n"
      ],
      "metadata": {
        "id": "pmaClAikRfXM"
      }
    },
    {
      "cell_type": "code",
      "execution_count": null,
      "metadata": {
        "colab": {
          "base_uri": "https://localhost:8080/",
          "height": 665
        },
        "id": "7xKeH1MLHBDn",
        "outputId": "0dbcda56-87c1-4f99-878c-612fc23b7ce6"
      },
      "outputs": [
        {
          "output_type": "stream",
          "name": "stdout",
          "text": [
            "Epoch 0: Loss = 0.086651\n",
            "Epoch 200: Loss = 0.000004\n",
            "Epoch 400: Loss = 0.000000\n",
            "Epoch 600: Loss = 0.000000\n",
            "Epoch 800: Loss = 0.000000\n",
            "Epoch 1000: Loss = 0.000000\n",
            "Epoch 1200: Loss = 0.000000\n",
            "Epoch 1400: Loss = 0.000000\n",
            "Epoch 1600: Loss = 0.000000\n",
            "Epoch 1800: Loss = 0.000000\n"
          ]
        },
        {
          "output_type": "display_data",
          "data": {
            "text/plain": [
              "<Figure size 640x480 with 1 Axes>"
            ],
            "image/png": "[encoded data removed]"
          },
          "metadata": {}
        },
        {
          "output_type": "stream",
          "name": "stdout",
          "text": [
            "Predicción: 2°C ≈ 35.60°F\n"
          ]
        }
      ],
      "source": [
        "import torch\n",
        "import torch.nn as nn\n",
        "import torch.optim as optim\n",
        "import matplotlib.pyplot as plt\n",
        "\n",
        "# Datos originales (Celsius → Fahrenheit)\n",
        "x_raw = torch.tensor([[-40.0], [0.0], [10.0], [20.0], [30.0], [40.0], [100.0]], dtype=torch.float32)\n",
        "y_raw = torch.tensor([[-40.0], [32.0], [50.0], [68.0], [86.0], [104.0], [212.0]], dtype=torch.float32)\n",
        "\n",
        "# Normalización (min-max scaling)\n",
        "x_min, x_max = x_raw.min(), x_raw.max()\n",
        "y_min, y_max = y_raw.min(), y_raw.max()\n",
        "\n",
        "x_train = (x_raw - x_min) / (x_max - x_min)\n",
        "y_train = (y_raw - y_min) / (y_max - y_min)\n",
        "\n",
        "# Definir el modelo de regresión lineal\n",
        "class CelsiusToFahrenheit(nn.Module):\n",
        "    def __init__(self):\n",
        "        super(CelsiusToFahrenheit, self).__init__()\n",
        "        self.linear = nn.Linear(1, 1)  # Capa lineal con 1 entrada y 1 salida\n",
        "        nn.init.xavier_uniform_(self.linear.weight)  # Mejora la inicialización\n",
        "\n",
        "    def forward(self, x):\n",
        "        return self.linear(x)\n",
        "\n",
        "# Crear el modelo\n",
        "model = CelsiusToFahrenheit()\n",
        "\n",
        "# Definir la función de pérdida y el optimizador\n",
        "criterion = nn.MSELoss()\n",
        "optimizer = optim.Adam(model.parameters(), lr=0.01)  # Adam evita la explosión de gradientes\n",
        "\n",
        "# Entrenamiento del modelo\n",
        "epochs = 2000\n",
        "loss_values = []\n",
        "\n",
        "for epoch in range(epochs):\n",
        "    y_pred = model(x_train)\n",
        "    loss = criterion(y_pred, y_train)\n",
        "\n",
        "    optimizer.zero_grad()\n",
        "    loss.backward()\n",
        "    optimizer.step()\n",
        "\n",
        "    loss_values.append(loss.item())\n",
        "\n",
        "    if epoch % 200 == 0:\n",
        "        print(f'Epoch {epoch}: Loss = {loss.item():.6f}')\n",
        "\n",
        "# Graficar la función de pérdida\n",
        "plt.plot(loss_values, label=\"Loss durante entrenamiento\", color=\"b\")\n",
        "plt.xlabel(\"Épocas\")\n",
        "plt.ylabel(\"Loss (MSE)\")\n",
        "plt.title(\"Evolución de la función de pérdida\")\n",
        "plt.legend()\n",
        "plt.grid()\n",
        "plt.show()\n",
        "\n",
        "# Probar el modelo con un nuevo valor\n",
        "celsius_value = torch.tensor([[2.0]], dtype=torch.float32)\n",
        "celsius_norm = (celsius_value - x_min) / (x_max - x_min)  # Normalizar entrada\n",
        "\n",
        "fahrenheit_pred_norm = model(celsius_norm).detach().item()  # Predicción normalizada\n",
        "fahrenheit_pred = fahrenheit_pred_norm * (y_max - y_min) + y_min  # Desnormalizar\n",
        "\n",
        "print(f'Predicción: 2°C ≈ {fahrenheit_pred:.2f}°F')\n"
      ]
    },
    {
      "cell_type": "markdown",
      "source": [],
      "metadata": {
        "id": "y07Nzp3aelwy"
      }
    },
    {
      "cell_type": "code",
      "source": [
        "def celsius_to_fahrenheit(celsius):\n",
        "    return (celsius * 9 / 5) + 32\n",
        "\n",
        "# Prueba de conversión\n",
        "celsius_value = 2.0\n",
        "fahrenheit_value = celsius_to_fahrenheit(celsius_value)\n",
        "print(f\"{celsius_value}°C ≈ {fahrenheit_value:.2f}°F\")\n"
      ],
      "metadata": {
        "colab": {
          "base_uri": "https://localhost:8080/"
        },
        "id": "a5ZLagthbGvA",
        "outputId": "b0f468a0-55da-4064-e3e2-12c9545e5b0c"
      },
      "execution_count": null,
      "outputs": [
        {
          "output_type": "stream",
          "name": "stdout",
          "text": [
            "2.0°C ≈ 35.60°F\n"
          ]
        }
      ]
    }
  ]
}